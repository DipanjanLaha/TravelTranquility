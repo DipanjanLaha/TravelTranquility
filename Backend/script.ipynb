{
 "cells": [
  {
   "cell_type": "code",
   "execution_count": 1,
   "metadata": {},
   "outputs": [],
   "source": [
    "import pandas as pd"
   ]
  },
  {
   "cell_type": "code",
   "execution_count": 2,
   "metadata": {},
   "outputs": [],
   "source": [
    "df = pd.read_csv(\"updated_Places.csv\")"
   ]
  },
  {
   "cell_type": "code",
   "execution_count": 4,
   "metadata": {},
   "outputs": [
    {
     "data": {
      "text/html": [
       "<div>\n",
       "<style scoped>\n",
       "    .dataframe tbody tr th:only-of-type {\n",
       "        vertical-align: middle;\n",
       "    }\n",
       "\n",
       "    .dataframe tbody tr th {\n",
       "        vertical-align: top;\n",
       "    }\n",
       "\n",
       "    .dataframe thead th {\n",
       "        text-align: right;\n",
       "    }\n",
       "</style>\n",
       "<table border=\"1\" class=\"dataframe\">\n",
       "  <thead>\n",
       "    <tr style=\"text-align: right;\">\n",
       "      <th></th>\n",
       "      <th>State</th>\n",
       "      <th>City</th>\n",
       "      <th>Ratings</th>\n",
       "      <th>Place</th>\n",
       "      <th>Distance</th>\n",
       "      <th>Place_desc</th>\n",
       "    </tr>\n",
       "  </thead>\n",
       "  <tbody>\n",
       "    <tr>\n",
       "      <th>0</th>\n",
       "      <td>Himachal Pradesh</td>\n",
       "      <td>Manali</td>\n",
       "      <td>3.9</td>\n",
       "      <td>1. Capture the Sceneries of Old Manali</td>\n",
       "      <td>2 km  from city center</td>\n",
       "      <td>On the other side of the Manalsu river is a p...</td>\n",
       "    </tr>\n",
       "    <tr>\n",
       "      <th>1</th>\n",
       "      <td>Himachal Pradesh</td>\n",
       "      <td>Manali</td>\n",
       "      <td>4.6</td>\n",
       "      <td>2. Engage in the Adventures of Solang Valley</td>\n",
       "      <td>8 km  from city center</td>\n",
       "      <td>Solang Valley is one of the most popular tour...</td>\n",
       "    </tr>\n",
       "    <tr>\n",
       "      <th>2</th>\n",
       "      <td>Himachal Pradesh</td>\n",
       "      <td>Manali</td>\n",
       "      <td>4.6</td>\n",
       "      <td>3. Jogini Waterfall</td>\n",
       "      <td>4 km  from city center</td>\n",
       "      <td>Jogini Waterfall is located about 3 kilometre...</td>\n",
       "    </tr>\n",
       "    <tr>\n",
       "      <th>3</th>\n",
       "      <td>Himachal Pradesh</td>\n",
       "      <td>Manali</td>\n",
       "      <td>4.4</td>\n",
       "      <td>4. Hadimba Temple</td>\n",
       "      <td>1 km  from city center</td>\n",
       "      <td>Hadimba temple, away from the hustle and bust...</td>\n",
       "    </tr>\n",
       "    <tr>\n",
       "      <th>4</th>\n",
       "      <td>Himachal Pradesh</td>\n",
       "      <td>Manali</td>\n",
       "      <td>4.4</td>\n",
       "      <td>5. Rohtang Pass</td>\n",
       "      <td>16 km  from city center</td>\n",
       "      <td>Rohtang pass is the stretch which connects Ma...</td>\n",
       "    </tr>\n",
       "  </tbody>\n",
       "</table>\n",
       "</div>"
      ],
      "text/plain": [
       "              State    City  Ratings  \\\n",
       "0  Himachal Pradesh  Manali      3.9   \n",
       "1  Himachal Pradesh  Manali      4.6   \n",
       "2  Himachal Pradesh  Manali      4.6   \n",
       "3  Himachal Pradesh  Manali      4.4   \n",
       "4  Himachal Pradesh  Manali      4.4   \n",
       "\n",
       "                                            Place                   Distance  \\\n",
       "0         1. Capture the Sceneries of Old Manali     2 km  from city center    \n",
       "1   2. Engage in the Adventures of Solang Valley     8 km  from city center    \n",
       "2                            3. Jogini Waterfall     4 km  from city center    \n",
       "3                              4. Hadimba Temple     1 km  from city center    \n",
       "4                                5. Rohtang Pass    16 km  from city center    \n",
       "\n",
       "                                          Place_desc  \n",
       "0   On the other side of the Manalsu river is a p...  \n",
       "1   Solang Valley is one of the most popular tour...  \n",
       "2   Jogini Waterfall is located about 3 kilometre...  \n",
       "3   Hadimba temple, away from the hustle and bust...  \n",
       "4   Rohtang pass is the stretch which connects Ma...  "
      ]
     },
     "execution_count": 4,
     "metadata": {},
     "output_type": "execute_result"
    }
   ],
   "source": [
    "df.head()"
   ]
  },
  {
   "cell_type": "code",
   "execution_count": 21,
   "metadata": {},
   "outputs": [],
   "source": [
    "new = str(df[\"Place_desc\"][0])"
   ]
  },
  {
   "cell_type": "code",
   "execution_count": 27,
   "metadata": {},
   "outputs": [
    {
     "data": {
      "text/plain": [
       "dtype('O')"
      ]
     },
     "execution_count": 27,
     "metadata": {},
     "output_type": "execute_result"
    }
   ],
   "source": [
    "df[\"State\"].dtype()"
   ]
  },
  {
   "cell_type": "code",
   "execution_count": null,
   "metadata": {},
   "outputs": [],
   "source": []
  }
 ],
 "metadata": {
  "kernelspec": {
   "display_name": "base",
   "language": "python",
   "name": "python3"
  },
  "language_info": {
   "codemirror_mode": {
    "name": "ipython",
    "version": 3
   },
   "file_extension": ".py",
   "mimetype": "text/x-python",
   "name": "python",
   "nbconvert_exporter": "python",
   "pygments_lexer": "ipython3",
   "version": "3.11.5"
  }
 },
 "nbformat": 4,
 "nbformat_minor": 2
}
